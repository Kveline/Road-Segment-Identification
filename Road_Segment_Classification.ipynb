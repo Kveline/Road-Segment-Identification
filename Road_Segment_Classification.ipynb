{
  "cells": [
    {
      "cell_type": "code",
      "execution_count": null,
      "metadata": {
        "colab": {
          "base_uri": "https://localhost:8080/"
        },
        "id": "E-otTmbrqsvB",
        "outputId": "f62d7da9-602d-4559-9776-b31ded70642b"
      },
      "outputs": [
        {
          "name": "stdout",
          "output_type": "stream",
          "text": [
            "Mounted at /content/drive\n"
          ]
        }
      ],
      "source": [
        "from google.colab import drive\n",
        "drive.mount('/content/drive')"
      ]
    },
    {
      "cell_type": "markdown",
      "metadata": {
        "id": "t9o15tLJsfqe"
      },
      "source": [
        "## Prepare the dataset"
      ]
    },
    {
      "cell_type": "markdown",
      "metadata": {
        "id": "eD9nPJ5m-Dk4"
      },
      "source": [
        "### Get Label dataset"
      ]
    },
    {
      "cell_type": "code",
      "execution_count": null,
      "metadata": {
        "id": "OKKlhK4F3PvO"
      },
      "outputs": [],
      "source": [
        "import pandas as pd\n",
        "data_labels = pd.read_csv(\"/content/drive/MyDrive/Zindi Dataset/Train.csv\")"
      ]
    },
    {
      "cell_type": "code",
      "execution_count": null,
      "metadata": {
        "colab": {
          "base_uri": "https://localhost:8080/",
          "height": 206
        },
        "id": "Ky7Ti4YG-NZs",
        "outputId": "17d1bae9-b250-4708-9fea-a0bd9eb1a179"
      },
      "outputs": [
        {
          "data": {
            "text/html": [
              "\n",
              "\n",
              "  <div id=\"df-71963c99-9ec7-475c-b28f-91707c9d1abb\">\n",
              "    <div class=\"colab-df-container\">\n",
              "      <div>\n",
              "<style scoped>\n",
              "    .dataframe tbody tr th:only-of-type {\n",
              "        vertical-align: middle;\n",
              "    }\n",
              "\n",
              "    .dataframe tbody tr th {\n",
              "        vertical-align: top;\n",
              "    }\n",
              "\n",
              "    .dataframe thead th {\n",
              "        text-align: right;\n",
              "    }\n",
              "</style>\n",
              "<table border=\"1\" class=\"dataframe\">\n",
              "  <thead>\n",
              "    <tr style=\"text-align: right;\">\n",
              "      <th></th>\n",
              "      <th>Image_ID</th>\n",
              "      <th>Target</th>\n",
              "    </tr>\n",
              "  </thead>\n",
              "  <tbody>\n",
              "    <tr>\n",
              "      <th>0</th>\n",
              "      <td>ID_0073qfb8</td>\n",
              "      <td>0</td>\n",
              "    </tr>\n",
              "    <tr>\n",
              "      <th>1</th>\n",
              "      <td>ID_00gy3vH2</td>\n",
              "      <td>1</td>\n",
              "    </tr>\n",
              "    <tr>\n",
              "      <th>2</th>\n",
              "      <td>ID_00uB3UFr</td>\n",
              "      <td>0</td>\n",
              "    </tr>\n",
              "    <tr>\n",
              "      <th>3</th>\n",
              "      <td>ID_012xZpNw</td>\n",
              "      <td>1</td>\n",
              "    </tr>\n",
              "    <tr>\n",
              "      <th>4</th>\n",
              "      <td>ID_014GgMRb</td>\n",
              "      <td>1</td>\n",
              "    </tr>\n",
              "  </tbody>\n",
              "</table>\n",
              "</div>\n",
              "      <button class=\"colab-df-convert\" onclick=\"convertToInteractive('df-71963c99-9ec7-475c-b28f-91707c9d1abb')\"\n",
              "              title=\"Convert this dataframe to an interactive table.\"\n",
              "              style=\"display:none;\">\n",
              "\n",
              "  <svg xmlns=\"http://www.w3.org/2000/svg\" height=\"24px\"viewBox=\"0 0 24 24\"\n",
              "       width=\"24px\">\n",
              "    <path d=\"M0 0h24v24H0V0z\" fill=\"none\"/>\n",
              "    <path d=\"M18.56 5.44l.94 2.06.94-2.06 2.06-.94-2.06-.94-.94-2.06-.94 2.06-2.06.94zm-11 1L8.5 8.5l.94-2.06 2.06-.94-2.06-.94L8.5 2.5l-.94 2.06-2.06.94zm10 10l.94 2.06.94-2.06 2.06-.94-2.06-.94-.94-2.06-.94 2.06-2.06.94z\"/><path d=\"M17.41 7.96l-1.37-1.37c-.4-.4-.92-.59-1.43-.59-.52 0-1.04.2-1.43.59L10.3 9.45l-7.72 7.72c-.78.78-.78 2.05 0 2.83L4 21.41c.39.39.9.59 1.41.59.51 0 1.02-.2 1.41-.59l7.78-7.78 2.81-2.81c.8-.78.8-2.07 0-2.86zM5.41 20L4 18.59l7.72-7.72 1.47 1.35L5.41 20z\"/>\n",
              "  </svg>\n",
              "      </button>\n",
              "\n",
              "\n",
              "\n",
              "    <div id=\"df-f5f89515-f1b4-4836-935e-3bc9a64e7ee7\">\n",
              "      <button class=\"colab-df-quickchart\" onclick=\"quickchart('df-f5f89515-f1b4-4836-935e-3bc9a64e7ee7')\"\n",
              "              title=\"Suggest charts.\"\n",
              "              style=\"display:none;\">\n",
              "\n",
              "<svg xmlns=\"http://www.w3.org/2000/svg\" height=\"24px\"viewBox=\"0 0 24 24\"\n",
              "     width=\"24px\">\n",
              "    <g>\n",
              "        <path d=\"M19 3H5c-1.1 0-2 .9-2 2v14c0 1.1.9 2 2 2h14c1.1 0 2-.9 2-2V5c0-1.1-.9-2-2-2zM9 17H7v-7h2v7zm4 0h-2V7h2v10zm4 0h-2v-4h2v4z\"/>\n",
              "    </g>\n",
              "</svg>\n",
              "      </button>\n",
              "    </div>\n",
              "\n",
              "<style>\n",
              "  .colab-df-quickchart {\n",
              "    background-color: #E8F0FE;\n",
              "    border: none;\n",
              "    border-radius: 50%;\n",
              "    cursor: pointer;\n",
              "    display: none;\n",
              "    fill: #1967D2;\n",
              "    height: 32px;\n",
              "    padding: 0 0 0 0;\n",
              "    width: 32px;\n",
              "  }\n",
              "\n",
              "  .colab-df-quickchart:hover {\n",
              "    background-color: #E2EBFA;\n",
              "    box-shadow: 0px 1px 2px rgba(60, 64, 67, 0.3), 0px 1px 3px 1px rgba(60, 64, 67, 0.15);\n",
              "    fill: #174EA6;\n",
              "  }\n",
              "\n",
              "  [theme=dark] .colab-df-quickchart {\n",
              "    background-color: #3B4455;\n",
              "    fill: #D2E3FC;\n",
              "  }\n",
              "\n",
              "  [theme=dark] .colab-df-quickchart:hover {\n",
              "    background-color: #434B5C;\n",
              "    box-shadow: 0px 1px 3px 1px rgba(0, 0, 0, 0.15);\n",
              "    filter: drop-shadow(0px 1px 2px rgba(0, 0, 0, 0.3));\n",
              "    fill: #FFFFFF;\n",
              "  }\n",
              "</style>\n",
              "\n",
              "    <script>\n",
              "      async function quickchart(key) {\n",
              "        const containerElement = document.querySelector('#' + key);\n",
              "        const charts = await google.colab.kernel.invokeFunction(\n",
              "            'suggestCharts', [key], {});\n",
              "      }\n",
              "    </script>\n",
              "\n",
              "      <script>\n",
              "\n",
              "function displayQuickchartButton(domScope) {\n",
              "  let quickchartButtonEl =\n",
              "    domScope.querySelector('#df-f5f89515-f1b4-4836-935e-3bc9a64e7ee7 button.colab-df-quickchart');\n",
              "  quickchartButtonEl.style.display =\n",
              "    google.colab.kernel.accessAllowed ? 'block' : 'none';\n",
              "}\n",
              "\n",
              "        displayQuickchartButton(document);\n",
              "      </script>\n",
              "      <style>\n",
              "    .colab-df-container {\n",
              "      display:flex;\n",
              "      flex-wrap:wrap;\n",
              "      gap: 12px;\n",
              "    }\n",
              "\n",
              "    .colab-df-convert {\n",
              "      background-color: #E8F0FE;\n",
              "      border: none;\n",
              "      border-radius: 50%;\n",
              "      cursor: pointer;\n",
              "      display: none;\n",
              "      fill: #1967D2;\n",
              "      height: 32px;\n",
              "      padding: 0 0 0 0;\n",
              "      width: 32px;\n",
              "    }\n",
              "\n",
              "    .colab-df-convert:hover {\n",
              "      background-color: #E2EBFA;\n",
              "      box-shadow: 0px 1px 2px rgba(60, 64, 67, 0.3), 0px 1px 3px 1px rgba(60, 64, 67, 0.15);\n",
              "      fill: #174EA6;\n",
              "    }\n",
              "\n",
              "    [theme=dark] .colab-df-convert {\n",
              "      background-color: #3B4455;\n",
              "      fill: #D2E3FC;\n",
              "    }\n",
              "\n",
              "    [theme=dark] .colab-df-convert:hover {\n",
              "      background-color: #434B5C;\n",
              "      box-shadow: 0px 1px 3px 1px rgba(0, 0, 0, 0.15);\n",
              "      filter: drop-shadow(0px 1px 2px rgba(0, 0, 0, 0.3));\n",
              "      fill: #FFFFFF;\n",
              "    }\n",
              "  </style>\n",
              "\n",
              "      <script>\n",
              "        const buttonEl =\n",
              "          document.querySelector('#df-71963c99-9ec7-475c-b28f-91707c9d1abb button.colab-df-convert');\n",
              "        buttonEl.style.display =\n",
              "          google.colab.kernel.accessAllowed ? 'block' : 'none';\n",
              "\n",
              "        async function convertToInteractive(key) {\n",
              "          const element = document.querySelector('#df-71963c99-9ec7-475c-b28f-91707c9d1abb');\n",
              "          const dataTable =\n",
              "            await google.colab.kernel.invokeFunction('convertToInteractive',\n",
              "                                                     [key], {});\n",
              "          if (!dataTable) return;\n",
              "\n",
              "          const docLinkHtml = 'Like what you see? Visit the ' +\n",
              "            '<a target=\"_blank\" href=https://colab.research.google.com/notebooks/data_table.ipynb>data table notebook</a>'\n",
              "            + ' to learn more about interactive tables.';\n",
              "          element.innerHTML = '';\n",
              "          dataTable['output_type'] = 'display_data';\n",
              "          await google.colab.output.renderOutput(dataTable, element);\n",
              "          const docLink = document.createElement('div');\n",
              "          docLink.innerHTML = docLinkHtml;\n",
              "          element.appendChild(docLink);\n",
              "        }\n",
              "      </script>\n",
              "    </div>\n",
              "  </div>\n"
            ],
            "text/plain": [
              "      Image_ID  Target\n",
              "0  ID_0073qfb8       0\n",
              "1  ID_00gy3vH2       1\n",
              "2  ID_00uB3UFr       0\n",
              "3  ID_012xZpNw       1\n",
              "4  ID_014GgMRb       1"
            ]
          },
          "execution_count": 3,
          "metadata": {},
          "output_type": "execute_result"
        }
      ],
      "source": [
        "data_labels.head()"
      ]
    },
    {
      "cell_type": "markdown",
      "metadata": {
        "id": "dOau277L-Iht"
      },
      "source": [
        "### Get Image dataset"
      ]
    },
    {
      "cell_type": "code",
      "execution_count": null,
      "metadata": {
        "id": "ivtELGdLse05"
      },
      "outputs": [],
      "source": [
        "import zipfile\n",
        "\n",
        "# unzip the downloaded data\n",
        "zip_ref = zipfile.ZipFile(\"/content/drive/MyDrive/Zindi Dataset/road_segment.zip\")\n",
        "zip_ref.extractall()\n",
        "zip_ref.close()"
      ]
    },
    {
      "cell_type": "code",
      "execution_count": null,
      "metadata": {
        "colab": {
          "base_uri": "https://localhost:8080/"
        },
        "id": "jItipox7t8yg",
        "outputId": "ed9e108d-ac39-4ea5-ec40-1a34b82e60eb"
      },
      "outputs": [
        {
          "name": "stdout",
          "output_type": "stream",
          "text": [
            "ls: cannot access '/content/Images': No such file or directory\n"
          ]
        }
      ],
      "source": [
        "# inspect the data\n",
        "!ls /content/Images"
      ]
    },
    {
      "cell_type": "code",
      "execution_count": null,
      "metadata": {
        "id": "6X1KlbAgufDk"
      },
      "outputs": [],
      "source": [
        "import os\n",
        "import pandas as pd\n",
        "import tensorflow as tf\n",
        "from tensorflow.keras.preprocessing import image_dataset_from_directory"
      ]
    },
    {
      "cell_type": "code",
      "execution_count": null,
      "metadata": {
        "id": "8RtPVLAku83z"
      },
      "outputs": [],
      "source": [
        "batch_size = 32\n",
        "image_folder_path = \"/content/Images\""
      ]
    },
    {
      "cell_type": "markdown",
      "metadata": {
        "id": "eJuEeHEo63MT"
      },
      "source": [
        "## Convert image to jpg and create the label folder"
      ]
    },
    {
      "cell_type": "code",
      "execution_count": null,
      "metadata": {
        "id": "7GpE8D2Jwcg4"
      },
      "outputs": [],
      "source": [
        "import os\n",
        "from PIL import Image\n",
        "import tensorflow as tf\n",
        "\n",
        "# create output folder for jpg\n",
        "output_folder = \"/content/new_JPG_images/\"\n",
        "\n",
        "for filename in os.listdir(image_folder_path):\n",
        "  # ignore .DS_Store\n",
        "  if filename == '.DS_Store':\n",
        "    continue\n",
        "  # Convert TIFF images to JPG format\n",
        "  else:\n",
        "    name = os.path.splitext(filename)[0]\n",
        "    if name in data_labels.values:\n",
        "      # get the label with Image_ID from csv [TRAIN] dataset\n",
        "      index_name = data_labels.loc[data_labels['Image_ID'] == name]\n",
        "      label = index_name[\"Target\"].values[0]\n",
        "\n",
        "      # get tif image\n",
        "      im = Image.open('/content/Images/' + filename)\n",
        "      # Create the output folder based on image's label if it doesn't exist\n",
        "      os.makedirs(output_folder + str(label), exist_ok=True)\n",
        "      # save the converted jpg image\n",
        "      im.save(output_folder + str(label) + \"/\" + name + '.jpg')"
      ]
    },
    {
      "cell_type": "code",
      "execution_count": null,
      "metadata": {
        "colab": {
          "base_uri": "https://localhost:8080/"
        },
        "id": "_2kfHsCqXsXz",
        "outputId": "dc58dab5-0e28-41f3-af53-9a0f1976cb88"
      },
      "outputs": [
        {
          "data": {
            "text/plain": [
              "array(['0', '1'], dtype='<U1')"
            ]
          },
          "execution_count": 9,
          "metadata": {},
          "output_type": "execute_result"
        }
      ],
      "source": [
        "# get the class names\n",
        "import pathlib\n",
        "import numpy as np\n",
        "\n",
        "data_dir = pathlib.Path(output_folder)\n",
        "class_names = np.array(sorted([item.name for item in data_dir.glob(\"*\")]))\n",
        "class_names"
      ]
    },
    {
      "cell_type": "markdown",
      "metadata": {
        "id": "y6PHgvxl-cEk"
      },
      "source": [
        "## Visualize the images"
      ]
    },
    {
      "cell_type": "code",
      "execution_count": null,
      "metadata": {
        "id": "sYie2dS6-fev"
      },
      "outputs": [],
      "source": [
        "import matplotlib.pyplot as plt\n",
        "import matplotlib.image as mpimg\n",
        "import random\n",
        "\n",
        "def view_random_image(target_dir, target_class):\n",
        "  # setup the target directory\n",
        "  target_folder = target_dir + \"/\" + target_class\n",
        "\n",
        "  # get a random image path\n",
        "  random_image = random.sample(os.listdir(target_folder), 1) # get 1\n",
        "  print(random_image)\n",
        "\n",
        "  # read the image and plot it\n",
        "  img = mpimg.imread(target_folder + '/' + random_image[0])\n",
        "  plt.imshow(img)\n",
        "  plt.title(target_class)\n",
        "  plt.axis(\"off\")\n",
        "\n",
        "  print(f\"Image Shape: {img.shape}\")\n",
        "  return img"
      ]
    },
    {
      "cell_type": "code",
      "execution_count": null,
      "metadata": {
        "colab": {
          "base_uri": "https://localhost:8080/",
          "height": 464
        },
        "id": "2TsNPQlYXdFG",
        "outputId": "72e82743-e9e3-47ce-d333-d43e16eecc86"
      },
      "outputs": [
        {
          "name": "stdout",
          "output_type": "stream",
          "text": [
            "['ID_OMpL1yF0.jpg']\n",
            "Image Shape: (250, 250, 3)\n"
          ]
        },
        {
          "data": {
            "image/png": "[encoded data removed]",
            "text/plain": [
              "<Figure size 640x480 with 1 Axes>"
            ]
          },
          "metadata": {},
          "output_type": "display_data"
        }
      ],
      "source": [
        "# visualize\n",
        "import random\n",
        "img = view_random_image(target_dir = \"/content/new_JPG_images\",\n",
        "                        target_class = random.choice(class_names))"
      ]
    },
    {
      "cell_type": "markdown",
      "metadata": {
        "id": "gXC2urk579YL"
      },
      "source": [
        "## Preprocess the dataset"
      ]
    },
    {
      "cell_type": "code",
      "execution_count": null,
      "metadata": {
        "colab": {
          "base_uri": "https://localhost:8080/"
        },
        "id": "qCxQaDXY8Bgq",
        "outputId": "492cd6fe-0651-45f5-defe-45587a7ca6b4"
      },
      "outputs": [
        {
          "name": "stdout",
          "output_type": "stream",
          "text": [
            "Found 7000 files belonging to 2 classes.\n",
            "Using 5600 files for training.\n",
            "Found 7000 files belonging to 2 classes.\n",
            "Using 1400 files for validation.\n"
          ]
        }
      ],
      "source": [
        "# set data inputs\n",
        "import tensorflow as tf\n",
        "from tensorflow.keras.preprocessing import image_dataset_from_directory\n",
        "\n",
        "BATCH_SIZE = 32\n",
        "IMG_DIR = \"/content/new_JPG_images\"\n",
        "\n",
        "train_data = image_dataset_from_directory(IMG_DIR,\n",
        "                                          validation_split = 0.2,\n",
        "                                          seed = 1,\n",
        "                                          subset = \"training\",\n",
        "                                          label_mode = \"binary\",\n",
        "                                          batch_size = BATCH_SIZE,\n",
        "                                          image_size = (250, 250))\n",
        "\n",
        "test_data = image_dataset_from_directory(IMG_DIR,\n",
        "                                          validation_split = 0.2,\n",
        "                                          seed = 1,\n",
        "                                          subset = \"validation\",\n",
        "                                          label_mode = \"binary\",\n",
        "                                          batch_size = BATCH_SIZE,\n",
        "                                          image_size = (250, 250))"
      ]
    },
    {
      "cell_type": "markdown",
      "metadata": {
        "id": "zPDe5ni-ZKu2"
      },
      "source": [
        "## Data augmentation"
      ]
    },
    {
      "cell_type": "code",
      "execution_count": null,
      "metadata": {
        "id": "rfGJks2yZMNH"
      },
      "outputs": [],
      "source": [
        "from tensorflow.keras import layers\n",
        "from tensorflow.keras.layers.experimental import preprocessing\n",
        "from tensorflow.keras.models import Sequential\n",
        "\n",
        "# build data augmentation layer\n",
        "data_augmentation = Sequential([\n",
        "    preprocessing.RandomFlip(\"horizontal\"),\n",
        "    preprocessing.RandomHeight(0.1),\n",
        "    preprocessing.RandomWidth(0.1),\n",
        "    preprocessing.RandomZoom(0.1),\n",
        "    preprocessing.RandomRotation(0.1),\n",
        "    preprocessing.Rescaling(1./255),\n",
        "], name = \"data_augmentation\")"
      ]
    },
    {
      "cell_type": "markdown",
      "metadata": {
        "id": "gOzubHRZaGfY"
      },
      "source": [
        "## Build a Model"
      ]
    },
    {
      "cell_type": "code",
      "execution_count": null,
      "metadata": {
        "id": "urfgUITvaIHv"
      },
      "outputs": [],
      "source": [
        "from tensorflow.keras.layers import Conv2D, MaxPool2D, Flatten, Dense, GlobalMaxPooling2D, Dropout, AveragePooling2D, BatchNormalization, GlobalAveragePooling2D\n",
        "\n",
        "# setup input shape\n",
        "input_shape = (250, 250, 3)\n",
        "\n",
        "inputs = layers.Input(shape = input_shape, name = \"input_layer\")\n",
        "# apply data augmentation layer\n",
        "x = data_augmentation(inputs)\n",
        "\n",
        "x = Conv2D(32,(5,5),input_shape=input_shape,activation=\"relu\",padding='same',strides=1)(x)\n",
        "x = BatchNormalization()(x)\n",
        "x = AveragePooling2D()(x)\n",
        "\n",
        "x = Conv2D(64,(3,3),strides=1,activation=\"relu\",padding='same')(x)\n",
        "x = BatchNormalization()(x)\n",
        "x = AveragePooling2D()(x)\n",
        "\n",
        "x = Conv2D(128,(3,3),strides=1,activation=\"relu\",padding='same')(x)\n",
        "x = BatchNormalization()(x)\n",
        "x = AveragePooling2D()(x)\n",
        "\n",
        "x = Conv2D(256,(2,2),strides=1,activation=\"relu\",padding='same')(x)\n",
        "x = BatchNormalization()(x)\n",
        "x = GlobalAveragePooling2D()(x)\n",
        "\n",
        "x = Dense(256, activation='relu')(x)\n",
        "x = Dense(128, activation='relu')(x)\n",
        "x = Dropout(0.5)(x)\n",
        "\n",
        "\n",
        "outputs = layers.Dense(1, activation = \"sigmoid\", name = \"output_layer\")(x)\n",
        "\n",
        "model_1 = tf.keras.Model(inputs, outputs)"
      ]
    },
    {
      "cell_type": "markdown",
      "metadata": {
        "id": "-gLuEQaK-5rN"
      },
      "source": [
        "### Set the optimizer"
      ]
    },
    {
      "cell_type": "code",
      "execution_count": null,
      "metadata": {
        "id": "Vt16bMqf-fZ4"
      },
      "outputs": [],
      "source": [
        "from keras.optimizers import RMSprop\n",
        "\n",
        "# Define the optimizer\n",
        "optimizer = RMSprop(learning_rate = 0.001, rho=0.9, epsilon=1e-08, decay=0.0)"
      ]
    },
    {
      "cell_type": "code",
      "execution_count": null,
      "metadata": {
        "id": "PiaNC8TqcG9f"
      },
      "outputs": [],
      "source": [
        "# compile the model\n",
        "model_1.compile(loss = \"binary_crossentropy\",\n",
        "                optimizer = optimizer,\n",
        "                metrics = [\"accuracy\"])"
      ]
    },
    {
      "cell_type": "code",
      "execution_count": null,
      "metadata": {
        "colab": {
          "base_uri": "https://localhost:8080/"
        },
        "id": "Lx28rChAcSZT",
        "outputId": "3e161977-4597-4ab5-e80a-f341fad5c897"
      },
      "outputs": [
        {
          "name": "stdout",
          "output_type": "stream",
          "text": [
            "Model: \"model\"\n",
            "_________________________________________________________________\n",
            " Layer (type)                Output Shape              Param #   \n",
            "=================================================================\n",
            " input_layer (InputLayer)    [(None, 250, 250, 3)]     0         \n",
            "                                                                 \n",
            " data_augmentation (Sequenti  (None, None, None, 3)    0         \n",
            " al)                                                             \n",
            "                                                                 \n",
            " conv2d (Conv2D)             (None, None, None, 32)    2432      \n",
            "                                                                 \n",
            " batch_normalization (BatchN  (None, None, None, 32)   128       \n",
            " ormalization)                                                   \n",
            "                                                                 \n",
            " average_pooling2d (AverageP  (None, None, None, 32)   0         \n",
            " ooling2D)                                                       \n",
            "                                                                 \n",
            " conv2d_1 (Conv2D)           (None, None, None, 64)    18496     \n",
            "                                                                 \n",
            " batch_normalization_1 (Batc  (None, None, None, 64)   256       \n",
            " hNormalization)                                                 \n",
            "                                                                 \n",
            " average_pooling2d_1 (Averag  (None, None, None, 64)   0         \n",
            " ePooling2D)                                                     \n",
            "                                                                 \n",
            " conv2d_2 (Conv2D)           (None, None, None, 128)   73856     \n",
            "                                                                 \n",
            " batch_normalization_2 (Batc  (None, None, None, 128)  512       \n",
            " hNormalization)                                                 \n",
            "                                                                 \n",
            " average_pooling2d_2 (Averag  (None, None, None, 128)  0         \n",
            " ePooling2D)                                                     \n",
            "                                                                 \n",
            " conv2d_3 (Conv2D)           (None, None, None, 256)   131328    \n",
            "                                                                 \n",
            " batch_normalization_3 (Batc  (None, None, None, 256)  1024      \n",
            " hNormalization)                                                 \n",
            "                                                                 \n",
            " global_average_pooling2d (G  (None, 256)              0         \n",
            " lobalAveragePooling2D)                                          \n",
            "                                                                 \n",
            " dense (Dense)               (None, 256)               65792     \n",
            "                                                                 \n",
            " dense_1 (Dense)             (None, 128)               32896     \n",
            "                                                                 \n",
            " dropout (Dropout)           (None, 128)               0         \n",
            "                                                                 \n",
            " output_layer (Dense)        (None, 1)                 129       \n",
            "                                                                 \n",
            "=================================================================\n",
            "Total params: 326,849\n",
            "Trainable params: 325,889\n",
            "Non-trainable params: 960\n",
            "_________________________________________________________________\n"
          ]
        }
      ],
      "source": [
        "model_1.summary()"
      ]
    },
    {
      "cell_type": "markdown",
      "metadata": {
        "id": "Jg7_mLFzBckH"
      },
      "source": [
        "### Model Checkpoint"
      ]
    },
    {
      "cell_type": "code",
      "execution_count": null,
      "metadata": {
        "colab": {
          "background_save": true
        },
        "id": "2GbS6s2zBazh"
      },
      "outputs": [],
      "source": [
        "from keras.callbacks import ModelCheckpoint\n",
        "checkpoint = ModelCheckpoint('model.h5', monitor='val_accuracy',\n",
        "                             mode='max', verbose=1,\n",
        "                             save_best_only=True, period=1)"
      ]
    },
    {
      "cell_type": "markdown",
      "metadata": {
        "id": "RGdNUBKd_EnV"
      },
      "source": [
        "### Learning rate reducer"
      ]
    },
    {
      "cell_type": "code",
      "execution_count": null,
      "metadata": {
        "id": "C436mXCj_Gft"
      },
      "outputs": [],
      "source": [
        "from keras.callbacks import ReduceLROnPlateau\n",
        "learning_rate_reduction = ReduceLROnPlateau(monitor = \"val_accuracy\",\n",
        "                                            patience = 3,\n",
        "                                            verbose = 1,\n",
        "                                            factor = 0.5,\n",
        "                                            min_lr = 0.00001)"
      ]
    },
    {
      "cell_type": "code",
      "execution_count": null,
      "metadata": {
        "colab": {
          "base_uri": "https://localhost:8080/"
        },
        "id": "BdPpSYw-cbpl",
        "outputId": "51c17980-d404-44d5-eb8f-0eb4616a6fa7"
      },
      "outputs": [
        {
          "name": "stdout",
          "output_type": "stream",
          "text": [
            "Epoch 1/30\n",
            "175/175 [==============================] - ETA: 0s - loss: 0.6215 - accuracy: 0.6721\n",
            "Epoch 1: val_accuracy improved from -inf to 0.50357, saving model to model.h5\n",
            "175/175 [==============================] - 272s 1s/step - loss: 0.6215 - accuracy: 0.6721 - val_loss: 0.9058 - val_accuracy: 0.5036 - lr: 0.0010\n",
            "Epoch 2/30\n",
            "175/175 [==============================] - ETA: 0s - loss: 0.5736 - accuracy: 0.7125\n",
            "Epoch 2: val_accuracy improved from 0.50357 to 0.57714, saving model to model.h5\n",
            "175/175 [==============================] - 188s 1s/step - loss: 0.5736 - accuracy: 0.7125 - val_loss: 0.6909 - val_accuracy: 0.5771 - lr: 0.0010\n",
            "Epoch 3/30\n",
            "175/175 [==============================] - ETA: 0s - loss: 0.5509 - accuracy: 0.7257\n",
            "Epoch 3: val_accuracy did not improve from 0.57714\n",
            "175/175 [==============================] - 160s 909ms/step - loss: 0.5509 - accuracy: 0.7257 - val_loss: 2.4278 - val_accuracy: 0.5400 - lr: 0.0010\n",
            "Epoch 4/30\n",
            "175/175 [==============================] - ETA: 0s - loss: 0.5313 - accuracy: 0.7482\n",
            "Epoch 4: val_accuracy did not improve from 0.57714\n",
            "175/175 [==============================] - 125s 717ms/step - loss: 0.5313 - accuracy: 0.7482 - val_loss: 0.7767 - val_accuracy: 0.5479 - lr: 0.0010\n",
            "Epoch 5/30\n",
            "175/175 [==============================] - ETA: 0s - loss: 0.5205 - accuracy: 0.7487\n",
            "Epoch 5: val_accuracy improved from 0.57714 to 0.66786, saving model to model.h5\n",
            "175/175 [==============================] - 108s 618ms/step - loss: 0.5205 - accuracy: 0.7487 - val_loss: 0.6077 - val_accuracy: 0.6679 - lr: 0.0010\n",
            "Epoch 6/30\n",
            "175/175 [==============================] - ETA: 0s - loss: 0.4954 - accuracy: 0.7680\n",
            "Epoch 6: val_accuracy did not improve from 0.66786\n",
            "175/175 [==============================] - 93s 531ms/step - loss: 0.4954 - accuracy: 0.7680 - val_loss: 0.9614 - val_accuracy: 0.4929 - lr: 0.0010\n",
            "Epoch 7/30\n",
            "175/175 [==============================] - ETA: 0s - loss: 0.4799 - accuracy: 0.7755\n",
            "Epoch 7: val_accuracy did not improve from 0.66786\n",
            "175/175 [==============================] - 92s 523ms/step - loss: 0.4799 - accuracy: 0.7755 - val_loss: 1.0395 - val_accuracy: 0.4600 - lr: 0.0010\n",
            "Epoch 8/30\n",
            "175/175 [==============================] - ETA: 0s - loss: 0.4665 - accuracy: 0.7900\n",
            "Epoch 8: val_accuracy improved from 0.66786 to 0.74000, saving model to model.h5\n",
            "175/175 [==============================] - 84s 482ms/step - loss: 0.4665 - accuracy: 0.7900 - val_loss: 0.5832 - val_accuracy: 0.7400 - lr: 0.0010\n",
            "Epoch 9/30\n",
            "175/175 [==============================] - ETA: 0s - loss: 0.4620 - accuracy: 0.7909\n",
            "Epoch 9: val_accuracy did not improve from 0.74000\n",
            "175/175 [==============================] - 73s 420ms/step - loss: 0.4620 - accuracy: 0.7909 - val_loss: 4.6012 - val_accuracy: 0.6293 - lr: 0.0010\n",
            "Epoch 10/30\n",
            "175/175 [==============================] - ETA: 0s - loss: 0.4329 - accuracy: 0.8073\n",
            "Epoch 10: val_accuracy did not improve from 0.74000\n",
            "175/175 [==============================] - 64s 363ms/step - loss: 0.4329 - accuracy: 0.8073 - val_loss: 1.1769 - val_accuracy: 0.4821 - lr: 0.0010\n",
            "Epoch 11/30\n",
            "175/175 [==============================] - ETA: 0s - loss: 0.4463 - accuracy: 0.8037\n",
            "Epoch 11: val_accuracy did not improve from 0.74000\n",
            "\n",
            "Epoch 11: ReduceLROnPlateau reducing learning rate to 0.0005000000237487257.\n",
            "175/175 [==============================] - 61s 349ms/step - loss: 0.4463 - accuracy: 0.8037 - val_loss: 1.7702 - val_accuracy: 0.6950 - lr: 0.0010\n",
            "Epoch 12/30\n",
            "175/175 [==============================] - ETA: 0s - loss: 0.4162 - accuracy: 0.8107\n",
            "Epoch 12: val_accuracy did not improve from 0.74000\n",
            "175/175 [==============================] - 63s 360ms/step - loss: 0.4162 - accuracy: 0.8107 - val_loss: 1.2851 - val_accuracy: 0.5929 - lr: 5.0000e-04\n",
            "Epoch 13/30\n",
            "175/175 [==============================] - ETA: 0s - loss: 0.3879 - accuracy: 0.8313\n",
            "Epoch 13: val_accuracy did not improve from 0.74000\n",
            "175/175 [==============================] - 54s 304ms/step - loss: 0.3879 - accuracy: 0.8313 - val_loss: 0.7166 - val_accuracy: 0.7021 - lr: 5.0000e-04\n",
            "Epoch 14/30\n",
            "175/175 [==============================] - ETA: 0s - loss: 0.3908 - accuracy: 0.8307\n",
            "Epoch 14: val_accuracy improved from 0.74000 to 0.83429, saving model to model.h5\n",
            "175/175 [==============================] - 48s 274ms/step - loss: 0.3908 - accuracy: 0.8307 - val_loss: 0.3851 - val_accuracy: 0.8343 - lr: 5.0000e-04\n",
            "Epoch 15/30\n",
            "175/175 [==============================] - ETA: 0s - loss: 0.3783 - accuracy: 0.8364\n",
            "Epoch 15: val_accuracy did not improve from 0.83429\n",
            "175/175 [==============================] - 50s 285ms/step - loss: 0.3783 - accuracy: 0.8364 - val_loss: 0.4668 - val_accuracy: 0.8186 - lr: 5.0000e-04\n",
            "Epoch 16/30\n",
            "175/175 [==============================] - ETA: 0s - loss: 0.3827 - accuracy: 0.8314\n",
            "Epoch 16: val_accuracy did not improve from 0.83429\n",
            "175/175 [==============================] - 47s 267ms/step - loss: 0.3827 - accuracy: 0.8314 - val_loss: 0.3955 - val_accuracy: 0.8307 - lr: 5.0000e-04\n",
            "Epoch 17/30\n",
            "175/175 [==============================] - ETA: 0s - loss: 0.3838 - accuracy: 0.8329\n",
            "Epoch 17: val_accuracy did not improve from 0.83429\n",
            "\n",
            "Epoch 17: ReduceLROnPlateau reducing learning rate to 0.0002500000118743628.\n",
            "175/175 [==============================] - 44s 250ms/step - loss: 0.3838 - accuracy: 0.8329 - val_loss: 0.4931 - val_accuracy: 0.7936 - lr: 5.0000e-04\n",
            "Epoch 18/30\n",
            "175/175 [==============================] - ETA: 0s - loss: 0.3563 - accuracy: 0.8443\n",
            "Epoch 18: val_accuracy improved from 0.83429 to 0.85429, saving model to model.h5\n",
            "175/175 [==============================] - 42s 239ms/step - loss: 0.3563 - accuracy: 0.8443 - val_loss: 0.3535 - val_accuracy: 0.8543 - lr: 2.5000e-04\n",
            "Epoch 19/30\n",
            "175/175 [==============================] - ETA: 0s - loss: 0.3579 - accuracy: 0.8421\n",
            "Epoch 19: val_accuracy did not improve from 0.85429\n",
            "175/175 [==============================] - 37s 211ms/step - loss: 0.3579 - accuracy: 0.8421 - val_loss: 0.3784 - val_accuracy: 0.8443 - lr: 2.5000e-04\n",
            "Epoch 20/30\n",
            "175/175 [==============================] - ETA: 0s - loss: 0.3576 - accuracy: 0.8420\n",
            "Epoch 20: val_accuracy did not improve from 0.85429\n",
            "175/175 [==============================] - 38s 214ms/step - loss: 0.3576 - accuracy: 0.8420 - val_loss: 0.9727 - val_accuracy: 0.7350 - lr: 2.5000e-04\n",
            "Epoch 21/30\n",
            "175/175 [==============================] - ETA: 0s - loss: 0.3608 - accuracy: 0.8432\n",
            "Epoch 21: val_accuracy did not improve from 0.85429\n",
            "\n",
            "Epoch 21: ReduceLROnPlateau reducing learning rate to 0.0001250000059371814.\n",
            "175/175 [==============================] - 40s 230ms/step - loss: 0.3608 - accuracy: 0.8432 - val_loss: 0.4573 - val_accuracy: 0.8114 - lr: 2.5000e-04\n",
            "Epoch 22/30\n",
            "175/175 [==============================] - ETA: 0s - loss: 0.3545 - accuracy: 0.8454\n",
            "Epoch 22: val_accuracy improved from 0.85429 to 0.86143, saving model to model.h5\n",
            "175/175 [==============================] - 38s 214ms/step - loss: 0.3545 - accuracy: 0.8454 - val_loss: 0.3311 - val_accuracy: 0.8614 - lr: 1.2500e-04\n",
            "Epoch 23/30\n",
            "175/175 [==============================] - ETA: 0s - loss: 0.3435 - accuracy: 0.8518\n",
            "Epoch 23: val_accuracy did not improve from 0.86143\n",
            "175/175 [==============================] - 35s 201ms/step - loss: 0.3435 - accuracy: 0.8518 - val_loss: 0.3741 - val_accuracy: 0.8407 - lr: 1.2500e-04\n",
            "Epoch 24/30\n",
            "175/175 [==============================] - ETA: 0s - loss: 0.3445 - accuracy: 0.8504\n",
            "Epoch 24: val_accuracy did not improve from 0.86143\n",
            "175/175 [==============================] - 38s 214ms/step - loss: 0.3445 - accuracy: 0.8504 - val_loss: 0.3915 - val_accuracy: 0.8407 - lr: 1.2500e-04\n",
            "Epoch 25/30\n",
            "175/175 [==============================] - ETA: 0s - loss: 0.3483 - accuracy: 0.8495\n",
            "Epoch 25: val_accuracy did not improve from 0.86143\n",
            "\n",
            "Epoch 25: ReduceLROnPlateau reducing learning rate to 6.25000029685907e-05.\n",
            "175/175 [==============================] - 32s 184ms/step - loss: 0.3483 - accuracy: 0.8495 - val_loss: 0.3840 - val_accuracy: 0.8393 - lr: 1.2500e-04\n",
            "Epoch 26/30\n",
            "175/175 [==============================] - ETA: 0s - loss: 0.3342 - accuracy: 0.8564\n",
            "Epoch 26: val_accuracy improved from 0.86143 to 0.86500, saving model to model.h5\n",
            "175/175 [==============================] - 34s 195ms/step - loss: 0.3342 - accuracy: 0.8564 - val_loss: 0.3247 - val_accuracy: 0.8650 - lr: 6.2500e-05\n",
            "Epoch 27/30\n",
            "175/175 [==============================] - ETA: 0s - loss: 0.3362 - accuracy: 0.8532\n",
            "Epoch 27: val_accuracy did not improve from 0.86500\n",
            "175/175 [==============================] - 33s 189ms/step - loss: 0.3362 - accuracy: 0.8532 - val_loss: 0.3339 - val_accuracy: 0.8593 - lr: 6.2500e-05\n",
            "Epoch 28/30\n",
            "175/175 [==============================] - ETA: 0s - loss: 0.3353 - accuracy: 0.8514\n",
            "Epoch 28: val_accuracy did not improve from 0.86500\n",
            "175/175 [==============================] - 33s 189ms/step - loss: 0.3353 - accuracy: 0.8514 - val_loss: 0.3340 - val_accuracy: 0.8607 - lr: 6.2500e-05\n",
            "Epoch 29/30\n",
            "175/175 [==============================] - ETA: 0s - loss: 0.3367 - accuracy: 0.8518\n",
            "Epoch 29: val_accuracy did not improve from 0.86500\n",
            "\n",
            "Epoch 29: ReduceLROnPlateau reducing learning rate to 3.125000148429535e-05.\n",
            "175/175 [==============================] - 30s 173ms/step - loss: 0.3367 - accuracy: 0.8518 - val_loss: 0.3457 - val_accuracy: 0.8543 - lr: 6.2500e-05\n",
            "Epoch 30/30\n",
            "175/175 [==============================] - ETA: 0s - loss: 0.3278 - accuracy: 0.8586\n",
            "Epoch 30: val_accuracy did not improve from 0.86500\n",
            "175/175 [==============================] - 27s 153ms/step - loss: 0.3278 - accuracy: 0.8586 - val_loss: 0.3206 - val_accuracy: 0.8629 - lr: 3.1250e-05\n"
          ]
        },
        {
          "data": {
            "text/plain": [
              "<keras.callbacks.History at 0x7e79a9d8e0e0>"
            ]
          },
          "execution_count": 20,
          "metadata": {},
          "output_type": "execute_result"
        }
      ],
      "source": [
        "# fit the model\n",
        "model_1.fit(train_data,\n",
        "            epochs = 30,\n",
        "            validation_data = test_data,\n",
        "            validation_steps = len(test_data),\n",
        "            callbacks=[checkpoint, learning_rate_reduction])"
      ]
    },
    {
      "cell_type": "code",
      "execution_count": null,
      "metadata": {
        "id": "sRCmDo3lyDx3"
      },
      "outputs": [],
      "source": [
        "# load the best model\n",
        "loaded_model = tf.keras.models.load_model(\"/content/model_0.86500.h5\")"
      ]
    },
    {
      "cell_type": "code",
      "execution_count": null,
      "metadata": {
        "colab": {
          "base_uri": "https://localhost:8080/"
        },
        "id": "dx0Ay8-PBntY",
        "outputId": "2216f36e-f3da-4ba5-ccd6-b26c4406aa62"
      },
      "outputs": [
        {
          "name": "stdout",
          "output_type": "stream",
          "text": [
            "44/44 [==============================] - 2s 33ms/step - loss: 0.3247 - accuracy: 0.8650\n"
          ]
        },
        {
          "data": {
            "text/plain": [
              "[0.3247052729129791, 0.8650000095367432]"
            ]
          },
          "execution_count": 22,
          "metadata": {},
          "output_type": "execute_result"
        }
      ],
      "source": [
        "loaded_model.evaluate(test_data)"
      ]
    },
    {
      "cell_type": "code",
      "execution_count": null,
      "metadata": {
        "colab": {
          "base_uri": "https://localhost:8080/",
          "height": 17
        },
        "id": "ct3U9YTT8Agk",
        "outputId": "2a983296-3503-47ce-c6a5-b0ed80e1b3ce"
      },
      "outputs": [
        {
          "data": {
            "application/javascript": [
              "\n",
              "    async function download(id, filename, size) {\n",
              "      if (!google.colab.kernel.accessAllowed) {\n",
              "        return;\n",
              "      }\n",
              "      const div = document.createElement('div');\n",
              "      const label = document.createElement('label');\n",
              "      label.textContent = `Downloading \"${filename}\": `;\n",
              "      div.appendChild(label);\n",
              "      const progress = document.createElement('progress');\n",
              "      progress.max = size;\n",
              "      div.appendChild(progress);\n",
              "      document.body.appendChild(div);\n",
              "\n",
              "      const buffers = [];\n",
              "      let downloaded = 0;\n",
              "\n",
              "      const channel = await google.colab.kernel.comms.open(id);\n",
              "      // Send a message to notify the kernel that we're ready.\n",
              "      channel.send({})\n",
              "\n",
              "      for await (const message of channel.messages) {\n",
              "        // Send a message to notify the kernel that we're ready.\n",
              "        channel.send({})\n",
              "        if (message.buffers) {\n",
              "          for (const buffer of message.buffers) {\n",
              "            buffers.push(buffer);\n",
              "            downloaded += buffer.byteLength;\n",
              "            progress.value = downloaded;\n",
              "          }\n",
              "        }\n",
              "      }\n",
              "      const blob = new Blob(buffers, {type: 'application/binary'});\n",
              "      const a = document.createElement('a');\n",
              "      a.href = window.URL.createObjectURL(blob);\n",
              "      a.download = filename;\n",
              "      div.appendChild(a);\n",
              "      a.click();\n",
              "      div.remove();\n",
              "    }\n",
              "  "
            ],
            "text/plain": [
              "<IPython.core.display.Javascript object>"
            ]
          },
          "metadata": {},
          "output_type": "display_data"
        },
        {
          "data": {
            "application/javascript": [
              "download(\"download_ada750dd-3c17-4cc2-bc4f-446a91424883\", \"model_0.86500.h5\", 2718808)"
            ],
            "text/plain": [
              "<IPython.core.display.Javascript object>"
            ]
          },
          "metadata": {},
          "output_type": "display_data"
        }
      ],
      "source": [
        "# download model\n",
        "from google.colab import files\n",
        "files.download(\"/content/model_0.86500.h5\")"
      ]
    }
  ],
  "metadata": {
    "accelerator": "GPU",
    "colab": {
      "provenance": []
    },
    "kernelspec": {
      "display_name": "Python 3",
      "name": "python3"
    },
    "language_info": {
      "name": "python"
    }
  },
  "nbformat": 4,
  "nbformat_minor": 0
}